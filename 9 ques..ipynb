{
 "cells": [
  {
   "cell_type": "code",
   "execution_count": 1,
   "id": "c89ccc48",
   "metadata": {},
   "outputs": [],
   "source": [
    "import re"
   ]
  },
  {
   "cell_type": "code",
   "execution_count": 26,
   "id": "54aa6908",
   "metadata": {},
   "outputs": [],
   "source": [
    "def insert_spaces(text):\n",
    "  pattern = r'([A-Z][a-z0-9]+|\\d+)'\n",
    "  result = re.sub(pattern,r'\\1',text)\n",
    "  result = result.strip()\n",
    "  return result"
   ]
  },
  {
   "cell_type": "code",
   "execution_count": 28,
   "id": "b0cd0dfd",
   "metadata": {},
   "outputs": [
    {
     "name": "stdout",
     "output_type": "stream",
     "text": [
      "RegularExpression1IsAn2ImportantTopic3InPython\n"
     ]
    }
   ],
   "source": [
    "sample_text = \"RegularExpression1IsAn2ImportantTopic3InPython\"\n",
    "output = insert_spaces(sample_text)\n",
    "print(output)"
   ]
  },
  {
   "cell_type": "code",
   "execution_count": null,
   "id": "c1976662",
   "metadata": {},
   "outputs": [],
   "source": []
  },
  {
   "cell_type": "code",
   "execution_count": null,
   "id": "e94ee464",
   "metadata": {},
   "outputs": [],
   "source": []
  }
 ],
 "metadata": {
  "kernelspec": {
   "display_name": "Python 3 (ipykernel)",
   "language": "python",
   "name": "python3"
  },
  "language_info": {
   "codemirror_mode": {
    "name": "ipython",
    "version": 3
   },
   "file_extension": ".py",
   "mimetype": "text/x-python",
   "name": "python",
   "nbconvert_exporter": "python",
   "pygments_lexer": "ipython3",
   "version": "3.10.9"
  }
 },
 "nbformat": 4,
 "nbformat_minor": 5
}
